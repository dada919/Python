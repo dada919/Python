{
 "cells": [
  {
   "cell_type": "markdown",
   "id": "186d5573",
   "metadata": {},
   "source": [
    "# Python quickstart"
   ]
  },
  {
   "cell_type": "code",
   "execution_count": 12,
   "id": "4151fe19",
   "metadata": {},
   "outputs": [
    {
     "name": "stdout",
     "output_type": "stream",
     "text": [
      "hello world\n"
     ]
    }
   ],
   "source": [
    "h = 'hello world'\n",
    "print(h)"
   ]
  },
  {
   "cell_type": "code",
   "execution_count": 17,
   "id": "5e4d88d7",
   "metadata": {},
   "outputs": [],
   "source": [
    "a,b = 1,2"
   ]
  },
  {
   "cell_type": "code",
   "execution_count": 14,
   "id": "b972a5b9",
   "metadata": {},
   "outputs": [],
   "source": [
    "c= 1,7867543"
   ]
  },
  {
   "cell_type": "code",
   "execution_count": 15,
   "id": "89a21e84",
   "metadata": {},
   "outputs": [
    {
     "data": {
      "text/plain": [
       "'d'"
      ]
     },
     "execution_count": 15,
     "metadata": {},
     "output_type": "execute_result"
    }
   ],
   "source": [
    "h[-1]"
   ]
  },
  {
   "cell_type": "code",
   "execution_count": 16,
   "id": "2b736e8f",
   "metadata": {},
   "outputs": [
    {
     "data": {
      "text/plain": [
       "'ello worl'"
      ]
     },
     "execution_count": 16,
     "metadata": {},
     "output_type": "execute_result"
    }
   ],
   "source": [
    "h[1:-1]"
   ]
  },
  {
   "cell_type": "code",
   "execution_count": 21,
   "id": "0a0bc34a",
   "metadata": {},
   "outputs": [],
   "source": [
    "t=[ ]\n",
    "for x in range (10):\n",
    "    t.append([ ])"
   ]
  },
  {
   "cell_type": "code",
   "execution_count": 23,
   "id": "00c6e4e1",
   "metadata": {},
   "outputs": [],
   "source": [
    "t = [ [ x for x in range(10)] for y in range(10)]"
   ]
  },
  {
   "cell_type": "code",
   "execution_count": 24,
   "id": "a0a96c89",
   "metadata": {},
   "outputs": [
    {
     "data": {
      "text/plain": [
       "[[0, 1, 2, 3, 4, 5, 6, 7, 8, 9],\n",
       " [0, 1, 2, 3, 4, 5, 6, 7, 8, 9],\n",
       " [0, 1, 2, 3, 4, 5, 6, 7, 8, 9],\n",
       " [0, 1, 2, 3, 4, 5, 6, 7, 8, 9],\n",
       " [0, 1, 2, 3, 4, 5, 6, 7, 8, 9],\n",
       " [0, 1, 2, 3, 4, 5, 6, 7, 8, 9],\n",
       " [0, 1, 2, 3, 4, 5, 6, 7, 8, 9],\n",
       " [0, 1, 2, 3, 4, 5, 6, 7, 8, 9],\n",
       " [0, 1, 2, 3, 4, 5, 6, 7, 8, 9],\n",
       " [0, 1, 2, 3, 4, 5, 6, 7, 8, 9]]"
      ]
     },
     "execution_count": 24,
     "metadata": {},
     "output_type": "execute_result"
    }
   ],
   "source": [
    "t"
   ]
  },
  {
   "cell_type": "code",
   "execution_count": 25,
   "id": "7a08dd8b",
   "metadata": {},
   "outputs": [
    {
     "name": "stdout",
     "output_type": "stream",
     "text": [
      "CPU times: total: 0 ns\n",
      "Wall time: 0 ns\n"
     ]
    },
    {
     "ename": "NameError",
     "evalue": "name 'm' is not defined",
     "output_type": "error",
     "traceback": [
      "\u001b[1;31m---------------------------------------------------------------------------\u001b[0m",
      "\u001b[1;31mNameError\u001b[0m                                 Traceback (most recent call last)",
      "Cell \u001b[1;32mIn[25], line 2\u001b[0m\n\u001b[0;32m      1\u001b[0m get_ipython()\u001b[38;5;241m.\u001b[39mrun_line_magic(\u001b[38;5;124m'\u001b[39m\u001b[38;5;124mtime\u001b[39m\u001b[38;5;124m'\u001b[39m, \u001b[38;5;124m'\u001b[39m\u001b[38;5;124m'\u001b[39m)\n\u001b[1;32m----> 2\u001b[0m m(\u001b[38;5;124m'\u001b[39m\u001b[38;5;124mhitema\u001b[39m\u001b[38;5;124m'\u001b[39m)\n",
      "\u001b[1;31mNameError\u001b[0m: name 'm' is not defined"
     ]
    }
   ],
   "source": [
    "def function0(name:str) -> str:\n",
    "    return f\"yoo {name}\""
   ]
  },
  {
   "cell_type": "markdown",
   "id": "721fa265",
   "metadata": {},
   "source": [
    "# Python Doctor"
   ]
  },
  {
   "cell_type": "markdown",
   "id": "d681b55a",
   "metadata": {},
   "source": [
    "## Calculs et variables python"
   ]
  },
  {
   "cell_type": "markdown",
   "id": "ccc0c09a",
   "metadata": {},
   "source": [
    "### Calculs"
   ]
  },
  {
   "cell_type": "code",
   "execution_count": 27,
   "id": "35d34108",
   "metadata": {},
   "outputs": [
    {
     "data": {
      "text/plain": [
       "3"
      ]
     },
     "execution_count": 27,
     "metadata": {},
     "output_type": "execute_result"
    }
   ],
   "source": [
    "1+2"
   ]
  },
  {
   "cell_type": "code",
   "execution_count": 28,
   "id": "dfb95b9a",
   "metadata": {},
   "outputs": [
    {
     "data": {
      "text/plain": [
       "-9"
      ]
     },
     "execution_count": 28,
     "metadata": {},
     "output_type": "execute_result"
    }
   ],
   "source": [
    "1-10"
   ]
  },
  {
   "cell_type": "code",
   "execution_count": 29,
   "id": "f4d54e68",
   "metadata": {},
   "outputs": [
    {
     "data": {
      "text/plain": [
       "20"
      ]
     },
     "execution_count": 29,
     "metadata": {},
     "output_type": "execute_result"
    }
   ],
   "source": [
    "2*10"
   ]
  },
  {
   "cell_type": "code",
   "execution_count": 30,
   "id": "befa051a",
   "metadata": {},
   "outputs": [
    {
     "data": {
      "text/plain": [
       "25.0"
      ]
     },
     "execution_count": 30,
     "metadata": {},
     "output_type": "execute_result"
    }
   ],
   "source": [
    "100/4"
   ]
  },
  {
   "cell_type": "code",
   "execution_count": 31,
   "id": "4df9be43",
   "metadata": {},
   "outputs": [
    {
     "data": {
      "text/plain": [
       "2"
      ]
     },
     "execution_count": 31,
     "metadata": {},
     "output_type": "execute_result"
    }
   ],
   "source": [
    "10%4"
   ]
  },
  {
   "cell_type": "code",
   "execution_count": 32,
   "id": "f054c2c7",
   "metadata": {},
   "outputs": [
    {
     "data": {
      "text/plain": [
       "8"
      ]
     },
     "execution_count": 32,
     "metadata": {},
     "output_type": "execute_result"
    }
   ],
   "source": [
    "2**3"
   ]
  },
  {
   "cell_type": "code",
   "execution_count": 33,
   "id": "65280fde",
   "metadata": {},
   "outputs": [
    {
     "data": {
      "text/plain": [
       "3.3333333333333335"
      ]
     },
     "execution_count": 33,
     "metadata": {},
     "output_type": "execute_result"
    }
   ],
   "source": [
    "10.0/3"
   ]
  },
  {
   "cell_type": "code",
   "execution_count": 34,
   "id": "9428f831",
   "metadata": {},
   "outputs": [
    {
     "data": {
      "text/plain": [
       "3.3333333333333335"
      ]
     },
     "execution_count": 34,
     "metadata": {},
     "output_type": "execute_result"
    }
   ],
   "source": [
    "10/3.0"
   ]
  },
  {
   "cell_type": "markdown",
   "id": "c5c7651d",
   "metadata": {},
   "source": [
    "### Les variables"
   ]
  },
  {
   "cell_type": "code",
   "execution_count": 35,
   "id": "b204eb09",
   "metadata": {},
   "outputs": [],
   "source": [
    "age = 30"
   ]
  },
  {
   "cell_type": "code",
   "execution_count": 36,
   "id": "c6b82fd7",
   "metadata": {},
   "outputs": [
    {
     "data": {
      "text/plain": [
       "30"
      ]
     },
     "execution_count": 36,
     "metadata": {},
     "output_type": "execute_result"
    }
   ],
   "source": [
    "age"
   ]
  },
  {
   "cell_type": "code",
   "execution_count": 37,
   "id": "39822e5c",
   "metadata": {},
   "outputs": [],
   "source": [
    "age = age + 10"
   ]
  },
  {
   "cell_type": "code",
   "execution_count": 38,
   "id": "90a1557a",
   "metadata": {},
   "outputs": [
    {
     "data": {
      "text/plain": [
       "40"
      ]
     },
     "execution_count": 38,
     "metadata": {},
     "output_type": "execute_result"
    }
   ],
   "source": [
    "age"
   ]
  },
  {
   "cell_type": "code",
   "execution_count": 39,
   "id": "5a6b70b6",
   "metadata": {},
   "outputs": [],
   "source": [
    "age2 = age"
   ]
  },
  {
   "cell_type": "code",
   "execution_count": 40,
   "id": "45452d0f",
   "metadata": {},
   "outputs": [
    {
     "data": {
      "text/plain": [
       "40"
      ]
     },
     "execution_count": 40,
     "metadata": {},
     "output_type": "execute_result"
    }
   ],
   "source": [
    "age2"
   ]
  },
  {
   "cell_type": "code",
   "execution_count": 41,
   "id": "ccd74a60",
   "metadata": {},
   "outputs": [],
   "source": [
    "age = \"J'ai 30 ans\""
   ]
  },
  {
   "cell_type": "code",
   "execution_count": 42,
   "id": "8df56283",
   "metadata": {},
   "outputs": [
    {
     "data": {
      "text/plain": [
       "\"J'ai 30 ans\""
      ]
     },
     "execution_count": 42,
     "metadata": {},
     "output_type": "execute_result"
    }
   ],
   "source": [
    "age"
   ]
  },
  {
   "cell_type": "code",
   "execution_count": 43,
   "id": "d819fd56",
   "metadata": {},
   "outputs": [],
   "source": [
    "age = age + \" et je suis encore jeune!\""
   ]
  },
  {
   "cell_type": "code",
   "execution_count": 44,
   "id": "b7cbb025",
   "metadata": {},
   "outputs": [
    {
     "data": {
      "text/plain": [
       "\"J'ai 30 ans et je suis encore jeune!\""
      ]
     },
     "execution_count": 44,
     "metadata": {},
     "output_type": "execute_result"
    }
   ],
   "source": [
    "age"
   ]
  },
  {
   "cell_type": "code",
   "execution_count": 45,
   "id": "06e62e30",
   "metadata": {},
   "outputs": [],
   "source": [
    "age = \"jeune\""
   ]
  },
  {
   "cell_type": "code",
   "execution_count": 46,
   "id": "41d03959",
   "metadata": {},
   "outputs": [
    {
     "data": {
      "text/plain": [
       "'jeunejeunejeune'"
      ]
     },
     "execution_count": 46,
     "metadata": {},
     "output_type": "execute_result"
    }
   ],
   "source": [
    "age * 3"
   ]
  },
  {
   "cell_type": "code",
   "execution_count": 47,
   "id": "20d5928e",
   "metadata": {},
   "outputs": [],
   "source": [
    "age = \"J'ai 30 ans\""
   ]
  },
  {
   "cell_type": "code",
   "execution_count": 48,
   "id": "a37c4e30",
   "metadata": {},
   "outputs": [
    {
     "data": {
      "text/plain": [
       "\"J'ai 30 ans\""
      ]
     },
     "execution_count": 48,
     "metadata": {},
     "output_type": "execute_result"
    }
   ],
   "source": [
    "age"
   ]
  },
  {
   "cell_type": "code",
   "execution_count": 49,
   "id": "a8676d61",
   "metadata": {},
   "outputs": [
    {
     "ename": "TypeError",
     "evalue": "can only concatenate str (not \"int\") to str",
     "output_type": "error",
     "traceback": [
      "\u001b[1;31m---------------------------------------------------------------------------\u001b[0m",
      "\u001b[1;31mTypeError\u001b[0m                                 Traceback (most recent call last)",
      "Cell \u001b[1;32mIn[49], line 1\u001b[0m\n\u001b[1;32m----> 1\u001b[0m age \u001b[38;5;241m+\u001b[39m \u001b[38;5;241m1\u001b[39m\n",
      "\u001b[1;31mTypeError\u001b[0m: can only concatenate str (not \"int\") to str"
     ]
    }
   ],
   "source": [
    "age + 1"
   ]
  },
  {
   "cell_type": "markdown",
   "id": "54145365",
   "metadata": {},
   "source": [
    "### Echapper les quotes"
   ]
  },
  {
   "cell_type": "code",
   "execution_count": 50,
   "id": "d37894c1",
   "metadata": {},
   "outputs": [],
   "source": [
    "texte = \"Bonjour je m'appelle \\\"Olivier\\\"\""
   ]
  },
  {
   "cell_type": "code",
   "execution_count": 51,
   "id": "cd5f0028",
   "metadata": {},
   "outputs": [
    {
     "data": {
      "text/plain": [
       "'Bonjour je m\\'appelle \"Olivier\"'"
      ]
     },
     "execution_count": 51,
     "metadata": {},
     "output_type": "execute_result"
    }
   ],
   "source": [
    "texte"
   ]
  },
  {
   "cell_type": "code",
   "execution_count": 52,
   "id": "d7f9cf2b",
   "metadata": {},
   "outputs": [],
   "source": [
    "texte = 'Bonjour je m\\'appelle \"Olivier\"'"
   ]
  },
  {
   "cell_type": "code",
   "execution_count": 53,
   "id": "1b947ea3",
   "metadata": {},
   "outputs": [
    {
     "data": {
      "text/plain": [
       "'Bonjour je m\\'appelle \"Olivier\"'"
      ]
     },
     "execution_count": 53,
     "metadata": {},
     "output_type": "execute_result"
    }
   ],
   "source": [
    "texte"
   ]
  },
  {
   "cell_type": "markdown",
   "id": "79ebd3d1",
   "metadata": {},
   "source": [
    "### Nommer une variable"
   ]
  },
  {
   "cell_type": "code",
   "execution_count": 55,
   "id": "819d2f48",
   "metadata": {},
   "outputs": [
    {
     "ename": "SyntaxError",
     "evalue": "invalid decimal literal (1504440605.py, line 1)",
     "output_type": "error",
     "traceback": [
      "\u001b[1;36m  Cell \u001b[1;32mIn[55], line 1\u001b[1;36m\u001b[0m\n\u001b[1;33m    1var = 1\u001b[0m\n\u001b[1;37m    ^\u001b[0m\n\u001b[1;31mSyntaxError\u001b[0m\u001b[1;31m:\u001b[0m invalid decimal literal\n"
     ]
    }
   ],
   "source": [
    "1var = 1"
   ]
  },
  {
   "cell_type": "markdown",
   "id": "5e6b0a16",
   "metadata": {},
   "source": [
    "### Les types de variables"
   ]
  },
  {
   "cell_type": "code",
   "execution_count": 56,
   "id": "8d051907",
   "metadata": {},
   "outputs": [],
   "source": [
    "v = 15"
   ]
  },
  {
   "cell_type": "code",
   "execution_count": 57,
   "id": "a2bad583",
   "metadata": {},
   "outputs": [
    {
     "data": {
      "text/plain": [
       "int"
      ]
     },
     "execution_count": 57,
     "metadata": {},
     "output_type": "execute_result"
    }
   ],
   "source": [
    "type(v)"
   ]
  },
  {
   "cell_type": "code",
   "execution_count": 58,
   "id": "0a07957e",
   "metadata": {},
   "outputs": [],
   "source": [
    "v = \"Olivier\""
   ]
  },
  {
   "cell_type": "code",
   "execution_count": 59,
   "id": "251cb4c8",
   "metadata": {},
   "outputs": [
    {
     "data": {
      "text/plain": [
       "str"
      ]
     },
     "execution_count": 59,
     "metadata": {},
     "output_type": "execute_result"
    }
   ],
   "source": [
    "type(v)"
   ]
  },
  {
   "cell_type": "code",
   "execution_count": 60,
   "id": "2999aa5b",
   "metadata": {},
   "outputs": [],
   "source": [
    "v = 3.2"
   ]
  },
  {
   "cell_type": "code",
   "execution_count": 61,
   "id": "6bdd29f6",
   "metadata": {},
   "outputs": [
    {
     "data": {
      "text/plain": [
       "float"
      ]
     },
     "execution_count": 61,
     "metadata": {},
     "output_type": "execute_result"
    }
   ],
   "source": [
    "type(v)"
   ]
  },
  {
   "cell_type": "markdown",
   "id": "ad5a8cb1",
   "metadata": {},
   "source": [
    "### La lib Decimal pour les calculs"
   ]
  },
  {
   "cell_type": "code",
   "execution_count": 62,
   "id": "a0d4c1f9",
   "metadata": {},
   "outputs": [],
   "source": [
    "from decimal import Decimal"
   ]
  },
  {
   "cell_type": "code",
   "execution_count": 63,
   "id": "09054bfa",
   "metadata": {},
   "outputs": [],
   "source": [
    "a = 10"
   ]
  },
  {
   "cell_type": "code",
   "execution_count": 64,
   "id": "af3f407d",
   "metadata": {},
   "outputs": [],
   "source": [
    "b = 3"
   ]
  },
  {
   "cell_type": "code",
   "execution_count": 65,
   "id": "438f7055",
   "metadata": {},
   "outputs": [
    {
     "data": {
      "text/plain": [
       "3.3333333333333335"
      ]
     },
     "execution_count": 65,
     "metadata": {},
     "output_type": "execute_result"
    }
   ],
   "source": [
    "a/b"
   ]
  },
  {
   "cell_type": "code",
   "execution_count": 66,
   "id": "879852ce",
   "metadata": {},
   "outputs": [],
   "source": [
    "a = Decimal('10')"
   ]
  },
  {
   "cell_type": "code",
   "execution_count": 67,
   "id": "bb32f0d0",
   "metadata": {},
   "outputs": [],
   "source": [
    "b = Decimal('3')"
   ]
  },
  {
   "cell_type": "code",
   "execution_count": 68,
   "id": "56a531f0",
   "metadata": {},
   "outputs": [
    {
     "data": {
      "text/plain": [
       "Decimal('3.333333333333333333333333333')"
      ]
     },
     "execution_count": 68,
     "metadata": {},
     "output_type": "execute_result"
    }
   ],
   "source": [
    "a/b"
   ]
  },
  {
   "cell_type": "markdown",
   "id": "898716be",
   "metadata": {},
   "source": [
    "### Types de variable"
   ]
  },
  {
   "cell_type": "code",
   "execution_count": 69,
   "id": "5372c7c2",
   "metadata": {},
   "outputs": [],
   "source": [
    "def greet(name: str) -> str:\n",
    "  return \"Hello, \" + name"
   ]
  },
  {
   "cell_type": "code",
   "execution_count": 70,
   "id": "6645dd9d",
   "metadata": {},
   "outputs": [
    {
     "name": "stdout",
     "output_type": "stream",
     "text": [
      "Hello, John\n"
     ]
    }
   ],
   "source": [
    "print(greet(\"John\"))"
   ]
  },
  {
   "cell_type": "code",
   "execution_count": 71,
   "id": "92a864d6",
   "metadata": {},
   "outputs": [],
   "source": [
    "def add(x: int, y: int) -> int:\n",
    "  return x + y"
   ]
  },
  {
   "cell_type": "code",
   "execution_count": 72,
   "id": "7509f0ae",
   "metadata": {},
   "outputs": [
    {
     "name": "stdout",
     "output_type": "stream",
     "text": [
      "7\n"
     ]
    }
   ],
   "source": [
    "print(add(3, 4))"
   ]
  },
  {
   "cell_type": "markdown",
   "id": "7699512c",
   "metadata": {},
   "source": [
    "## Les listes"
   ]
  },
  {
   "cell_type": "markdown",
   "id": "8408920a",
   "metadata": {},
   "source": [
    "### Créer une liste"
   ]
  },
  {
   "cell_type": "code",
   "execution_count": 74,
   "id": "940d0c6a",
   "metadata": {},
   "outputs": [],
   "source": [
    "liste = []"
   ]
  },
  {
   "cell_type": "code",
   "execution_count": 75,
   "id": "695a1bf6",
   "metadata": {},
   "outputs": [
    {
     "data": {
      "text/plain": [
       "[]"
      ]
     },
     "execution_count": 75,
     "metadata": {},
     "output_type": "execute_result"
    }
   ],
   "source": [
    "liste"
   ]
  },
  {
   "cell_type": "markdown",
   "id": "bb19cb0a",
   "metadata": {},
   "source": [
    "### Ajouter une valeur à une liste"
   ]
  },
  {
   "cell_type": "code",
   "execution_count": 76,
   "id": "33e01d2c",
   "metadata": {},
   "outputs": [],
   "source": [
    "liste = [1,2,3]"
   ]
  },
  {
   "cell_type": "code",
   "execution_count": 77,
   "id": "b4f798bb",
   "metadata": {},
   "outputs": [
    {
     "data": {
      "text/plain": [
       "[1, 2, 3]"
      ]
     },
     "execution_count": 77,
     "metadata": {},
     "output_type": "execute_result"
    }
   ],
   "source": [
    "liste"
   ]
  },
  {
   "cell_type": "code",
   "execution_count": 78,
   "id": "f47f2a12",
   "metadata": {},
   "outputs": [],
   "source": [
    "liste.append(1)"
   ]
  },
  {
   "cell_type": "code",
   "execution_count": 79,
   "id": "191f9331",
   "metadata": {},
   "outputs": [
    {
     "data": {
      "text/plain": [
       "[1, 2, 3, 1]"
      ]
     },
     "execution_count": 79,
     "metadata": {},
     "output_type": "execute_result"
    }
   ],
   "source": [
    "liste"
   ]
  },
  {
   "cell_type": "code",
   "execution_count": 80,
   "id": "9f9cf8bb",
   "metadata": {},
   "outputs": [],
   "source": [
    "liste.append(\"ok\")"
   ]
  },
  {
   "cell_type": "code",
   "execution_count": 81,
   "id": "855cf8bb",
   "metadata": {},
   "outputs": [
    {
     "data": {
      "text/plain": [
       "[1, 2, 3, 1, 'ok']"
      ]
     },
     "execution_count": 81,
     "metadata": {},
     "output_type": "execute_result"
    }
   ],
   "source": [
    "liste"
   ]
  },
  {
   "cell_type": "markdown",
   "id": "03a693d5",
   "metadata": {},
   "source": [
    "### Afficher un item d'une liste"
   ]
  },
  {
   "cell_type": "code",
   "execution_count": 82,
   "id": "25b495ac",
   "metadata": {},
   "outputs": [],
   "source": [
    "liste = [\"a\",\"d\",\"m\"]"
   ]
  },
  {
   "cell_type": "code",
   "execution_count": 83,
   "id": "17992d4c",
   "metadata": {},
   "outputs": [
    {
     "data": {
      "text/plain": [
       "'a'"
      ]
     },
     "execution_count": 83,
     "metadata": {},
     "output_type": "execute_result"
    }
   ],
   "source": [
    "liste[0]"
   ]
  },
  {
   "cell_type": "code",
   "execution_count": 84,
   "id": "e72145f1",
   "metadata": {},
   "outputs": [
    {
     "data": {
      "text/plain": [
       "'m'"
      ]
     },
     "execution_count": 84,
     "metadata": {},
     "output_type": "execute_result"
    }
   ],
   "source": [
    "liste[2]"
   ]
  },
  {
   "cell_type": "code",
   "execution_count": 85,
   "id": "e7f2e0b7",
   "metadata": {},
   "outputs": [],
   "source": [
    "liste[2] = \"z\""
   ]
  },
  {
   "cell_type": "code",
   "execution_count": 86,
   "id": "b91a4125",
   "metadata": {},
   "outputs": [
    {
     "data": {
      "text/plain": [
       "['a', 'd', 'z']"
      ]
     },
     "execution_count": 86,
     "metadata": {},
     "output_type": "execute_result"
    }
   ],
   "source": [
    "liste"
   ]
  },
  {
   "cell_type": "markdown",
   "id": "51964465",
   "metadata": {},
   "source": [
    "### Supprimer une entrée avec un index"
   ]
  },
  {
   "cell_type": "code",
   "execution_count": 87,
   "id": "713cef7c",
   "metadata": {},
   "outputs": [],
   "source": [
    "liste = [\"a\", \"b\", \"c\"]"
   ]
  },
  {
   "cell_type": "code",
   "execution_count": 88,
   "id": "dfce9aa9",
   "metadata": {},
   "outputs": [],
   "source": [
    "del liste[1]"
   ]
  },
  {
   "cell_type": "code",
   "execution_count": 89,
   "id": "cddb1843",
   "metadata": {},
   "outputs": [
    {
     "data": {
      "text/plain": [
       "['a', 'c']"
      ]
     },
     "execution_count": 89,
     "metadata": {},
     "output_type": "execute_result"
    }
   ],
   "source": [
    "liste"
   ]
  },
  {
   "cell_type": "markdown",
   "id": "f7cabd7d",
   "metadata": {},
   "source": [
    "### Supprimer une entrée avec sa valeur"
   ]
  },
  {
   "cell_type": "code",
   "execution_count": 90,
   "id": "7bdcfa1b",
   "metadata": {},
   "outputs": [],
   "source": [
    "liste = [\"a\", \"b\", \"c\"]"
   ]
  },
  {
   "cell_type": "code",
   "execution_count": 91,
   "id": "98a020cd",
   "metadata": {},
   "outputs": [],
   "source": [
    "liste.reverse()"
   ]
  },
  {
   "cell_type": "code",
   "execution_count": 92,
   "id": "bd193491",
   "metadata": {},
   "outputs": [
    {
     "data": {
      "text/plain": [
       "['c', 'b', 'a']"
      ]
     },
     "execution_count": 92,
     "metadata": {},
     "output_type": "execute_result"
    }
   ],
   "source": [
    "liste"
   ]
  },
  {
   "cell_type": "markdown",
   "id": "0c9e7a62",
   "metadata": {},
   "source": [
    "### Compter le nombre d'items d'une liste"
   ]
  },
  {
   "cell_type": "code",
   "execution_count": 93,
   "id": "4bbd661f",
   "metadata": {},
   "outputs": [],
   "source": [
    "liste = [1,2,3,5,10]"
   ]
  },
  {
   "cell_type": "code",
   "execution_count": 95,
   "id": "abf3a511",
   "metadata": {},
   "outputs": [
    {
     "data": {
      "text/plain": [
       "5"
      ]
     },
     "execution_count": 95,
     "metadata": {},
     "output_type": "execute_result"
    }
   ],
   "source": [
    "len(liste)"
   ]
  },
  {
   "cell_type": "markdown",
   "id": "5468b5b8",
   "metadata": {},
   "source": [
    "### Compter le nombre d'occurences d'une valeur"
   ]
  },
  {
   "cell_type": "code",
   "execution_count": 96,
   "id": "3a05fc78",
   "metadata": {},
   "outputs": [],
   "source": [
    "liste = [\"a\",\"a\",\"a\",\"b\",\"c\",\"c\"]"
   ]
  },
  {
   "cell_type": "code",
   "execution_count": 97,
   "id": "768763d9",
   "metadata": {},
   "outputs": [
    {
     "data": {
      "text/plain": [
       "3"
      ]
     },
     "execution_count": 97,
     "metadata": {},
     "output_type": "execute_result"
    }
   ],
   "source": [
    "liste.count(\"a\")"
   ]
  },
  {
   "cell_type": "code",
   "execution_count": 98,
   "id": "684f6812",
   "metadata": {},
   "outputs": [
    {
     "data": {
      "text/plain": [
       "2"
      ]
     },
     "execution_count": 98,
     "metadata": {},
     "output_type": "execute_result"
    }
   ],
   "source": [
    "liste.count(\"c\")"
   ]
  },
  {
   "cell_type": "markdown",
   "id": "2bf69d7a",
   "metadata": {},
   "source": [
    "### Trouver l'index d'une valeur"
   ]
  },
  {
   "cell_type": "code",
   "execution_count": 99,
   "id": "8c187f6b",
   "metadata": {},
   "outputs": [],
   "source": [
    "liste = [\"a\",\"a\",\"a\",\"b\",\"c\",\"c\"]"
   ]
  },
  {
   "cell_type": "code",
   "execution_count": 100,
   "id": "0df8a917",
   "metadata": {},
   "outputs": [
    {
     "data": {
      "text/plain": [
       "3"
      ]
     },
     "execution_count": 100,
     "metadata": {},
     "output_type": "execute_result"
    }
   ],
   "source": [
    "liste.index(\"b\")"
   ]
  },
  {
   "cell_type": "markdown",
   "id": "db8db329",
   "metadata": {},
   "source": [
    "### Manipuler une liste"
   ]
  },
  {
   "cell_type": "code",
   "execution_count": 101,
   "id": "6162ce17",
   "metadata": {},
   "outputs": [],
   "source": [
    "liste = [1, 10, 100, 250, 500]"
   ]
  },
  {
   "cell_type": "code",
   "execution_count": 102,
   "id": "58322129",
   "metadata": {},
   "outputs": [
    {
     "data": {
      "text/plain": [
       "1"
      ]
     },
     "execution_count": 102,
     "metadata": {},
     "output_type": "execute_result"
    }
   ],
   "source": [
    "liste[0]"
   ]
  },
  {
   "cell_type": "code",
   "execution_count": 104,
   "id": "a6178bf8",
   "metadata": {},
   "outputs": [
    {
     "data": {
      "text/plain": [
       "500"
      ]
     },
     "execution_count": 104,
     "metadata": {},
     "output_type": "execute_result"
    }
   ],
   "source": [
    "liste[-1]"
   ]
  },
  {
   "cell_type": "code",
   "execution_count": 105,
   "id": "b7c0ba96",
   "metadata": {},
   "outputs": [
    {
     "data": {
      "text/plain": [
       "[10, 100, 250, 500]"
      ]
     },
     "execution_count": 105,
     "metadata": {},
     "output_type": "execute_result"
    }
   ],
   "source": [
    "liste[-4:]"
   ]
  },
  {
   "cell_type": "code",
   "execution_count": 106,
   "id": "9f592f4d",
   "metadata": {},
   "outputs": [
    {
     "data": {
      "text/plain": [
       "[1, 10, 100, 250, 500]"
      ]
     },
     "execution_count": 106,
     "metadata": {},
     "output_type": "execute_result"
    }
   ],
   "source": [
    "liste[:]"
   ]
  },
  {
   "cell_type": "code",
   "execution_count": 107,
   "id": "7c46fc9c",
   "metadata": {},
   "outputs": [],
   "source": [
    "liste[2:4] = [69, 70]"
   ]
  },
  {
   "cell_type": "code",
   "execution_count": 108,
   "id": "cebca7ef",
   "metadata": {},
   "outputs": [],
   "source": [
    "liste[:] = []"
   ]
  },
  {
   "cell_type": "markdown",
   "id": "fbb51b9e",
   "metadata": {},
   "source": [
    "### Boucler sur une liste"
   ]
  },
  {
   "cell_type": "code",
   "execution_count": 109,
   "id": "90046898",
   "metadata": {},
   "outputs": [],
   "source": [
    "liste = [\"a\",\"d\",\"m\"]"
   ]
  },
  {
   "cell_type": "code",
   "execution_count": 111,
   "id": "9c76b01d",
   "metadata": {},
   "outputs": [
    {
     "name": "stdout",
     "output_type": "stream",
     "text": [
      "a\n",
      "d\n",
      "m\n"
     ]
    }
   ],
   "source": [
    "for lettre in liste:\n",
    "    print (lettre)"
   ]
  },
  {
   "cell_type": "code",
   "execution_count": 112,
   "id": "2a2a8fe5",
   "metadata": {},
   "outputs": [
    {
     "name": "stdout",
     "output_type": "stream",
     "text": [
      "(0, 'a')\n",
      "(1, 'd')\n",
      "(2, 'm')\n"
     ]
    }
   ],
   "source": [
    "for lettre in enumerate(liste):\n",
    "    print (lettre)"
   ]
  },
  {
   "cell_type": "markdown",
   "id": "0498f006",
   "metadata": {},
   "source": [
    "### Copier une liste"
   ]
  },
  {
   "cell_type": "code",
   "execution_count": 113,
   "id": "8bfb54ba",
   "metadata": {},
   "outputs": [],
   "source": [
    "x = [1,2,3]"
   ]
  },
  {
   "cell_type": "code",
   "execution_count": 114,
   "id": "87cf4467",
   "metadata": {},
   "outputs": [],
   "source": [
    "y = x"
   ]
  },
  {
   "cell_type": "code",
   "execution_count": 115,
   "id": "078b7c6f",
   "metadata": {},
   "outputs": [],
   "source": [
    "y[0] = 4"
   ]
  },
  {
   "cell_type": "code",
   "execution_count": 116,
   "id": "e0a525a4",
   "metadata": {},
   "outputs": [
    {
     "data": {
      "text/plain": [
       "[4, 2, 3]"
      ]
     },
     "execution_count": 116,
     "metadata": {},
     "output_type": "execute_result"
    }
   ],
   "source": [
    "x"
   ]
  },
  {
   "cell_type": "code",
   "execution_count": 117,
   "id": "534311e0",
   "metadata": {},
   "outputs": [],
   "source": [
    "x = [1,2,3]"
   ]
  },
  {
   "cell_type": "code",
   "execution_count": 118,
   "id": "a2303f40",
   "metadata": {},
   "outputs": [],
   "source": [
    "y = x[:]"
   ]
  },
  {
   "cell_type": "code",
   "execution_count": 119,
   "id": "01d0f39c",
   "metadata": {},
   "outputs": [],
   "source": [
    "y[0] = 9"
   ]
  },
  {
   "cell_type": "code",
   "execution_count": 120,
   "id": "1118dd54",
   "metadata": {},
   "outputs": [
    {
     "data": {
      "text/plain": [
       "[1, 2, 3]"
      ]
     },
     "execution_count": 120,
     "metadata": {},
     "output_type": "execute_result"
    }
   ],
   "source": [
    "x"
   ]
  },
  {
   "cell_type": "code",
   "execution_count": 121,
   "id": "7f0b3c71",
   "metadata": {},
   "outputs": [
    {
     "data": {
      "text/plain": [
       "[9, 2, 3]"
      ]
     },
     "execution_count": 121,
     "metadata": {},
     "output_type": "execute_result"
    }
   ],
   "source": [
    "y"
   ]
  },
  {
   "cell_type": "code",
   "execution_count": 122,
   "id": "50f28536",
   "metadata": {},
   "outputs": [],
   "source": [
    "import copy"
   ]
  },
  {
   "cell_type": "code",
   "execution_count": 123,
   "id": "34d38296",
   "metadata": {},
   "outputs": [],
   "source": [
    "x = [[1,2], 2]"
   ]
  },
  {
   "cell_type": "code",
   "execution_count": 124,
   "id": "50b1c856",
   "metadata": {},
   "outputs": [],
   "source": [
    "y = copy.deepcopy(x)"
   ]
  },
  {
   "cell_type": "code",
   "execution_count": 125,
   "id": "062f32fb",
   "metadata": {},
   "outputs": [],
   "source": [
    "y[1] = [1,2,3]"
   ]
  },
  {
   "cell_type": "code",
   "execution_count": 126,
   "id": "ac9d2e71",
   "metadata": {},
   "outputs": [
    {
     "data": {
      "text/plain": [
       "[[1, 2], 2]"
      ]
     },
     "execution_count": 126,
     "metadata": {},
     "output_type": "execute_result"
    }
   ],
   "source": [
    "x"
   ]
  },
  {
   "cell_type": "code",
   "execution_count": 127,
   "id": "6818de23",
   "metadata": {},
   "outputs": [
    {
     "data": {
      "text/plain": [
       "[[1, 2], [1, 2, 3]]"
      ]
     },
     "execution_count": 127,
     "metadata": {},
     "output_type": "execute_result"
    }
   ],
   "source": [
    "y"
   ]
  },
  {
   "cell_type": "markdown",
   "id": "3d39e4f5",
   "metadata": {},
   "source": [
    "### Transformer une string en liste"
   ]
  },
  {
   "cell_type": "code",
   "execution_count": 128,
   "id": "6b507075",
   "metadata": {},
   "outputs": [],
   "source": [
    "ma_chaine = \"Olivier:ENGEL:Strasbourg\""
   ]
  },
  {
   "cell_type": "code",
   "execution_count": 129,
   "id": "71df7a52",
   "metadata": {},
   "outputs": [
    {
     "data": {
      "text/plain": [
       "['Olivier', 'ENGEL', 'Strasbourg']"
      ]
     },
     "execution_count": 129,
     "metadata": {},
     "output_type": "execute_result"
    }
   ],
   "source": [
    "ma_chaine.split(\":\")"
   ]
  },
  {
   "cell_type": "markdown",
   "id": "73519a88",
   "metadata": {},
   "source": [
    "### Transformer une liste en string"
   ]
  },
  {
   "cell_type": "code",
   "execution_count": 130,
   "id": "f7fcce9f",
   "metadata": {},
   "outputs": [],
   "source": [
    "liste = [\"Olivier\",\"ENGEL\",\"Strasbourg\"]"
   ]
  },
  {
   "cell_type": "code",
   "execution_count": 131,
   "id": "56a5ef77",
   "metadata": {},
   "outputs": [
    {
     "data": {
      "text/plain": [
       "'Olivier:ENGEL:Strasbourg'"
      ]
     },
     "execution_count": 131,
     "metadata": {},
     "output_type": "execute_result"
    }
   ],
   "source": [
    "\":\".join(liste)"
   ]
  },
  {
   "cell_type": "markdown",
   "id": "e18e5100",
   "metadata": {},
   "source": [
    "### Trouver un item dans une liste"
   ]
  },
  {
   "cell_type": "code",
   "execution_count": 132,
   "id": "e701083e",
   "metadata": {},
   "outputs": [],
   "source": [
    "liste = [1,2,3,5,10]"
   ]
  },
  {
   "cell_type": "code",
   "execution_count": 133,
   "id": "63d24d59",
   "metadata": {},
   "outputs": [
    {
     "data": {
      "text/plain": [
       "True"
      ]
     },
     "execution_count": 133,
     "metadata": {},
     "output_type": "execute_result"
    }
   ],
   "source": [
    "3 in liste"
   ]
  },
  {
   "cell_type": "code",
   "execution_count": 134,
   "id": "fb6eda9e",
   "metadata": {},
   "outputs": [
    {
     "data": {
      "text/plain": [
       "False"
      ]
     },
     "execution_count": 134,
     "metadata": {},
     "output_type": "execute_result"
    }
   ],
   "source": [
    "11 in liste"
   ]
  },
  {
   "cell_type": "markdown",
   "id": "3224d8d6",
   "metadata": {},
   "source": [
    "### La fonction range"
   ]
  },
  {
   "cell_type": "code",
   "execution_count": 135,
   "id": "31f945a0",
   "metadata": {},
   "outputs": [
    {
     "data": {
      "text/plain": [
       "range(0, 10)"
      ]
     },
     "execution_count": 135,
     "metadata": {},
     "output_type": "execute_result"
    }
   ],
   "source": [
    "range(10)"
   ]
  },
  {
   "cell_type": "markdown",
   "id": "80af7a08",
   "metadata": {},
   "source": [
    "### Agrandir une liste par une liste"
   ]
  },
  {
   "cell_type": "code",
   "execution_count": 136,
   "id": "93da77d4",
   "metadata": {},
   "outputs": [],
   "source": [
    "x = [1, 2, 3, 4]"
   ]
  },
  {
   "cell_type": "code",
   "execution_count": 137,
   "id": "fc00cd85",
   "metadata": {},
   "outputs": [],
   "source": [
    "y = [4, 5, 1, 0]"
   ]
  },
  {
   "cell_type": "code",
   "execution_count": 138,
   "id": "bce8cf1d",
   "metadata": {},
   "outputs": [],
   "source": [
    "x.extend(y)"
   ]
  },
  {
   "cell_type": "code",
   "execution_count": 139,
   "id": "292a8f46",
   "metadata": {},
   "outputs": [
    {
     "name": "stdout",
     "output_type": "stream",
     "text": [
      "[1, 2, 3, 4, 4, 5, 1, 0]\n"
     ]
    }
   ],
   "source": [
    "print (x)"
   ]
  },
  {
   "cell_type": "markdown",
   "id": "1b10f328",
   "metadata": {},
   "source": [
    "### Permutations"
   ]
  },
  {
   "cell_type": "code",
   "execution_count": 140,
   "id": "20372e9a",
   "metadata": {},
   "outputs": [],
   "source": [
    "from itertools import permutations"
   ]
  },
  {
   "cell_type": "code",
   "execution_count": 141,
   "id": "770fc265",
   "metadata": {},
   "outputs": [
    {
     "data": {
      "text/plain": [
       "[('a', 'b', 'c'),\n",
       " ('a', 'c', 'b'),\n",
       " ('b', 'a', 'c'),\n",
       " ('b', 'c', 'a'),\n",
       " ('c', 'a', 'b'),\n",
       " ('c', 'b', 'a')]"
      ]
     },
     "execution_count": 141,
     "metadata": {},
     "output_type": "execute_result"
    }
   ],
   "source": [
    "list(permutations(['a', 'b', 'c']))"
   ]
  },
  {
   "cell_type": "markdown",
   "id": "e39da249",
   "metadata": {},
   "source": [
    "### Permutation d'une liste de liste"
   ]
  },
  {
   "cell_type": "code",
   "execution_count": 142,
   "id": "b97f483b",
   "metadata": {},
   "outputs": [],
   "source": [
    "from itertools import product"
   ]
  },
  {
   "cell_type": "code",
   "execution_count": 143,
   "id": "9ffaa01c",
   "metadata": {},
   "outputs": [
    {
     "data": {
      "text/plain": [
       "[('a', 'c'), ('a', 'd'), ('b', 'c'), ('b', 'd')]"
      ]
     },
     "execution_count": 143,
     "metadata": {},
     "output_type": "execute_result"
    }
   ],
   "source": [
    "list(product(['a', 'b'], ['c', 'd']))"
   ]
  },
  {
   "cell_type": "markdown",
   "id": "d2b9e80d",
   "metadata": {},
   "source": [
    "### Astuces"
   ]
  },
  {
   "cell_type": "code",
   "execution_count": 144,
   "id": "964af8ba",
   "metadata": {},
   "outputs": [],
   "source": [
    "liste = [1,2,3,4,5]"
   ]
  },
  {
   "cell_type": "code",
   "execution_count": 145,
   "id": "18e82182",
   "metadata": {},
   "outputs": [
    {
     "data": {
      "text/plain": [
       "[1, 2]"
      ]
     },
     "execution_count": 145,
     "metadata": {},
     "output_type": "execute_result"
    }
   ],
   "source": [
    "liste[:2]"
   ]
  },
  {
   "cell_type": "code",
   "execution_count": 146,
   "id": "bb0b6fb0",
   "metadata": {},
   "outputs": [],
   "source": [
    "liste = [1, 2, 3, 4, 5, 6]"
   ]
  },
  {
   "cell_type": "code",
   "execution_count": 147,
   "id": "8bf9da87",
   "metadata": {},
   "outputs": [
    {
     "data": {
      "text/plain": [
       "6"
      ]
     },
     "execution_count": 147,
     "metadata": {},
     "output_type": "execute_result"
    }
   ],
   "source": [
    "liste[-1]"
   ]
  },
  {
   "cell_type": "code",
   "execution_count": 148,
   "id": "2c010aa9",
   "metadata": {},
   "outputs": [],
   "source": [
    "liste = [1, 2, 3, 4, 5, 6]"
   ]
  },
  {
   "cell_type": "code",
   "execution_count": 149,
   "id": "2a1ea909",
   "metadata": {},
   "outputs": [
    {
     "data": {
      "text/plain": [
       "4"
      ]
     },
     "execution_count": 149,
     "metadata": {},
     "output_type": "execute_result"
    }
   ],
   "source": [
    "liste[-3]"
   ]
  },
  {
   "cell_type": "code",
   "execution_count": 150,
   "id": "c64b0be0",
   "metadata": {},
   "outputs": [],
   "source": [
    "liste = [1, 2, 3, 4, 5, 6]"
   ]
  },
  {
   "cell_type": "code",
   "execution_count": 151,
   "id": "5e6bf15e",
   "metadata": {},
   "outputs": [
    {
     "data": {
      "text/plain": [
       "[4, 5, 6]"
      ]
     },
     "execution_count": 151,
     "metadata": {},
     "output_type": "execute_result"
    }
   ],
   "source": [
    "liste[-3:]"
   ]
  },
  {
   "cell_type": "code",
   "execution_count": 152,
   "id": "15259841",
   "metadata": {},
   "outputs": [],
   "source": [
    "x = [1, 2, 3]"
   ]
  },
  {
   "cell_type": "code",
   "execution_count": 153,
   "id": "a9b06543",
   "metadata": {},
   "outputs": [],
   "source": [
    "y = [4, 5, 6]"
   ]
  },
  {
   "cell_type": "code",
   "execution_count": 154,
   "id": "b4beb0e1",
   "metadata": {},
   "outputs": [
    {
     "data": {
      "text/plain": [
       "[1, 2, 3, 4, 5, 6]"
      ]
     },
     "execution_count": 154,
     "metadata": {},
     "output_type": "execute_result"
    }
   ],
   "source": [
    "x + y"
   ]
  },
  {
   "cell_type": "code",
   "execution_count": 155,
   "id": "b6867138",
   "metadata": {},
   "outputs": [],
   "source": [
    "x = [1, 2]"
   ]
  },
  {
   "cell_type": "code",
   "execution_count": 156,
   "id": "45f1f800",
   "metadata": {},
   "outputs": [
    {
     "data": {
      "text/plain": [
       "[1, 2, 1, 2, 1, 2, 1, 2, 1, 2]"
      ]
     },
     "execution_count": 156,
     "metadata": {},
     "output_type": "execute_result"
    }
   ],
   "source": [
    "x * 5"
   ]
  },
  {
   "cell_type": "code",
   "execution_count": 157,
   "id": "ada13d0f",
   "metadata": {},
   "outputs": [
    {
     "data": {
      "text/plain": [
       "[0, 0, 0, 0, 0]"
      ]
     },
     "execution_count": 157,
     "metadata": {},
     "output_type": "execute_result"
    }
   ],
   "source": [
    "[0] * 5"
   ]
  },
  {
   "cell_type": "code",
   "execution_count": null,
   "id": "953576f8",
   "metadata": {},
   "outputs": [],
   "source": []
  }
 ],
 "metadata": {
  "kernelspec": {
   "display_name": "Python 3 (ipykernel)",
   "language": "python",
   "name": "python3"
  },
  "language_info": {
   "codemirror_mode": {
    "name": "ipython",
    "version": 3
   },
   "file_extension": ".py",
   "mimetype": "text/x-python",
   "name": "python",
   "nbconvert_exporter": "python",
   "pygments_lexer": "ipython3",
   "version": "3.11.5"
  }
 },
 "nbformat": 4,
 "nbformat_minor": 5
}
